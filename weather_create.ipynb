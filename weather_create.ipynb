{
 "cells": [
  {
   "cell_type": "markdown",
   "metadata": {},
   "source": [
    "### Weather Cleaning and Organization Notebook\n",
    "This notebook will focus on converting the raw METAR and SPECI weather data into one usable data frame and exporting it to a CSV file that will be used to perform predictive analysis for on time departures out of San Diego International Airport."
   ]
  },
  {
   "cell_type": "code",
   "execution_count": 135,
   "metadata": {},
   "outputs": [],
   "source": [
    "# Import libraries\n",
    "import pandas as pd\n",
    "import re\n",
    "\n",
    "from datetime import datetime\n",
    "from metar import Metar"
   ]
  },
  {
   "cell_type": "code",
   "execution_count": 136,
   "metadata": {},
   "outputs": [
    {
     "name": "stderr",
     "output_type": "stream",
     "text": [
      "C:\\Users\\graha\\AppData\\Local\\Temp\\ipykernel_15536\\4099001678.py:2: DtypeWarning: Columns (34,35,36,42,46,50,79) have mixed types. Specify dtype option on import or set low_memory=False.\n",
      "  df1 = pd.read_csv('Raw_data/raw_weather/KSAN_2023_wx.csv')\n",
      "C:\\Users\\graha\\AppData\\Local\\Temp\\ipykernel_15536\\4099001678.py:3: DtypeWarning: Columns (2,36,41) have mixed types. Specify dtype option on import or set low_memory=False.\n",
      "  df2 = pd.read_csv('Raw_data/raw_weather/KSAN_2024_wx.csv')\n"
     ]
    }
   ],
   "source": [
    "# Import the data files\n",
    "df1 = pd.read_csv('Raw_data/raw_weather/KSAN_2023_wx.csv')\n",
    "df2 = pd.read_csv('Raw_data/raw_weather/KSAN_2024_wx.csv')\n",
    "df3 = pd.read_csv('Raw_data/raw_weather/KSAN_2025_wx.csv')\n",
    "\n",
    "# create list of dfs\n",
    "dfs = [df1, df2, df3]"
   ]
  },
  {
   "cell_type": "code",
   "execution_count": 137,
   "metadata": {},
   "outputs": [],
   "source": [
    "# Removing unnecessary rows besides REM which houses the raw METAR data and concatenating the dataframes\n",
    "metar_dfs = []\n",
    "\n",
    "for i, df in enumerate(dfs, start=1):\n",
    "    if 'REM' in df.columns:\n",
    "        metar_dfs.append(df[['REM']])\n",
    "    else:\n",
    "        print('REM column not found in df{i}')\n",
    "\n",
    "# concatenating the dfs\n",
    "comb_metar_df = pd.concat(metar_dfs, ignore_index=True)"
   ]
  },
  {
   "cell_type": "code",
   "execution_count": 138,
   "metadata": {},
   "outputs": [
    {
     "data": {
      "text/html": [
       "<div>\n",
       "<style scoped>\n",
       "    .dataframe tbody tr th:only-of-type {\n",
       "        vertical-align: middle;\n",
       "    }\n",
       "\n",
       "    .dataframe tbody tr th {\n",
       "        vertical-align: top;\n",
       "    }\n",
       "\n",
       "    .dataframe thead th {\n",
       "        text-align: right;\n",
       "    }\n",
       "</style>\n",
       "<table border=\"1\" class=\"dataframe\">\n",
       "  <thead>\n",
       "    <tr style=\"text-align: right;\">\n",
       "      <th></th>\n",
       "      <th>REM</th>\n",
       "    </tr>\n",
       "  </thead>\n",
       "  <tbody>\n",
       "    <tr>\n",
       "      <th>0</th>\n",
       "      <td>SYN08672290 12366 8//06 10161 20128 30148 4016...</td>\n",
       "    </tr>\n",
       "    <tr>\n",
       "      <th>1</th>\n",
       "      <td>MET10512/31/22 16:10:03 SPECI KSAN 010010Z 180...</td>\n",
       "    </tr>\n",
       "    <tr>\n",
       "      <th>2</th>\n",
       "      <td>MET12712/31/22 16:51:03 METAR KSAN 010051Z 160...</td>\n",
       "    </tr>\n",
       "    <tr>\n",
       "      <th>3</th>\n",
       "      <td>MET12612/31/22 17:51:03 METAR KSAN 010151Z 150...</td>\n",
       "    </tr>\n",
       "    <tr>\n",
       "      <th>4</th>\n",
       "      <td>MET10512/31/22 18:16:03 SPECI KSAN 010216Z 140...</td>\n",
       "    </tr>\n",
       "  </tbody>\n",
       "</table>\n",
       "</div>"
      ],
      "text/plain": [
       "                                                 REM\n",
       "0  SYN08672290 12366 8//06 10161 20128 30148 4016...\n",
       "1  MET10512/31/22 16:10:03 SPECI KSAN 010010Z 180...\n",
       "2  MET12712/31/22 16:51:03 METAR KSAN 010051Z 160...\n",
       "3  MET12612/31/22 17:51:03 METAR KSAN 010151Z 150...\n",
       "4  MET10512/31/22 18:16:03 SPECI KSAN 010216Z 140..."
      ]
     },
     "execution_count": 138,
     "metadata": {},
     "output_type": "execute_result"
    }
   ],
   "source": [
    "comb_metar_df.head()"
   ]
  },
  {
   "cell_type": "code",
   "execution_count": 139,
   "metadata": {},
   "outputs": [
    {
     "data": {
      "text/html": [
       "<div>\n",
       "<style scoped>\n",
       "    .dataframe tbody tr th:only-of-type {\n",
       "        vertical-align: middle;\n",
       "    }\n",
       "\n",
       "    .dataframe tbody tr th {\n",
       "        vertical-align: top;\n",
       "    }\n",
       "\n",
       "    .dataframe thead th {\n",
       "        text-align: right;\n",
       "    }\n",
       "</style>\n",
       "<table border=\"1\" class=\"dataframe\">\n",
       "  <thead>\n",
       "    <tr style=\"text-align: right;\">\n",
       "      <th></th>\n",
       "      <th>REM</th>\n",
       "    </tr>\n",
       "  </thead>\n",
       "  <tbody>\n",
       "    <tr>\n",
       "      <th>30326</th>\n",
       "      <td>MET14103/06/25 21:01:01 SPECI KSAN 070501Z 330...</td>\n",
       "    </tr>\n",
       "    <tr>\n",
       "      <th>30327</th>\n",
       "      <td>MET13803/06/25 21:13:01 SPECI KSAN 070513Z 350...</td>\n",
       "    </tr>\n",
       "    <tr>\n",
       "      <th>30328</th>\n",
       "      <td>MET16903/06/25 21:51:01 METAR KSAN 070551Z 350...</td>\n",
       "    </tr>\n",
       "    <tr>\n",
       "      <th>30329</th>\n",
       "      <td>MET11903/06/25 22:51:01 METAR KSAN 070651Z 330...</td>\n",
       "    </tr>\n",
       "    <tr>\n",
       "      <th>30330</th>\n",
       "      <td>SOD77324 HR PRECIPITATION (IN): 0.59 WEATHER(C...</td>\n",
       "    </tr>\n",
       "  </tbody>\n",
       "</table>\n",
       "</div>"
      ],
      "text/plain": [
       "                                                     REM\n",
       "30326  MET14103/06/25 21:01:01 SPECI KSAN 070501Z 330...\n",
       "30327  MET13803/06/25 21:13:01 SPECI KSAN 070513Z 350...\n",
       "30328  MET16903/06/25 21:51:01 METAR KSAN 070551Z 350...\n",
       "30329  MET11903/06/25 22:51:01 METAR KSAN 070651Z 330...\n",
       "30330  SOD77324 HR PRECIPITATION (IN): 0.59 WEATHER(C..."
      ]
     },
     "execution_count": 139,
     "metadata": {},
     "output_type": "execute_result"
    }
   ],
   "source": [
    "comb_metar_df.tail()"
   ]
  },
  {
   "cell_type": "code",
   "execution_count": 140,
   "metadata": {},
   "outputs": [],
   "source": [
    "# Filter so that the data only contains METAR data and not extra synthetic information that does not conform to the standard METAR format we will be extracting from\n",
    "comb_metar_df = comb_metar_df[comb_metar_df['REM'].str.startswith('MET', na=False)]"
   ]
  },
  {
   "cell_type": "code",
   "execution_count": 141,
   "metadata": {},
   "outputs": [],
   "source": [
    "# reset the index of the dataframe\n",
    "comb_metar_df.reset_index(drop=True, inplace=True)"
   ]
  },
  {
   "cell_type": "code",
   "execution_count": 142,
   "metadata": {},
   "outputs": [
    {
     "name": "stdout",
     "output_type": "stream",
     "text": [
      "                                                 REM\n",
      "0  MET10512/31/22 16:10:03 SPECI KSAN 010010Z 180...\n",
      "1  MET12712/31/22 16:51:03 METAR KSAN 010051Z 160...\n",
      "2  MET12612/31/22 17:51:03 METAR KSAN 010151Z 150...\n",
      "3  MET10512/31/22 18:16:03 SPECI KSAN 010216Z 140...\n",
      "4  MET10812/31/22 18:38:03 SPECI KSAN 010238Z 140...\n",
      "                                                     REM\n",
      "24583  MET19203/06/25 20:51:01 METAR KSAN 070451Z 350...\n",
      "24584  MET14103/06/25 21:01:01 SPECI KSAN 070501Z 330...\n",
      "24585  MET13803/06/25 21:13:01 SPECI KSAN 070513Z 350...\n",
      "24586  MET16903/06/25 21:51:01 METAR KSAN 070551Z 350...\n",
      "24587  MET11903/06/25 22:51:01 METAR KSAN 070651Z 330...\n"
     ]
    }
   ],
   "source": [
    "print(comb_metar_df.head())\n",
    "print(comb_metar_df.tail())"
   ]
  },
  {
   "cell_type": "code",
   "execution_count": 143,
   "metadata": {},
   "outputs": [],
   "source": [
    "# establish a prefix pattern to extract the information before the actual beginning of the METAR data\n",
    "\n",
    "prefix_pattern = re.compile(\n",
    "    # the MET pattern and 3 digit code that we do not need\n",
    "    r'^MET\\d{3}'\n",
    "    # local month\n",
    "    r'(?P<month>\\d{2})/'\n",
    "    # local day\n",
    "    r'(?P<day>\\d{2})/'\n",
    "    #local year\n",
    "    r'(?P<year>\\d{2})\\s+'\n",
    "    # local hour\n",
    "    r'(?P<hour>\\d{2}):'\n",
    "    # local minute\n",
    "    r'(?P<minute>\\d{2}):'\n",
    "    # local second\n",
    "    r'(?P<second>\\d{2})\\s+'\n",
    "    # rest of the actual metar\n",
    "    r'(?P<metar>.*)$'\n",
    ")"
   ]
  },
  {
   "cell_type": "code",
   "execution_count": 144,
   "metadata": {},
   "outputs": [],
   "source": [
    "# create function that will parse the prefix data, dropping the MET and the three digit code but making a date and time column \n",
    "def parse_prefix(line):\n",
    "    match = prefix_pattern.match(line)\n",
    "    if not match:\n",
    "        return None\n",
    "    \n",
    "    local_date = f\"{match.group('month')}/{match.group('day')}/{match.group('year')}\"\n",
    "    local_time = f\"{match.group('hour')}:{match.group('minute')}:{match.group('second')}\"\n",
    "    metar = match.group('metar')\n",
    "\n",
    "    return {\n",
    "        'local_date': local_date,\n",
    "        'local_time': local_time,\n",
    "        'metar': metar\n",
    "    }"
   ]
  },
  {
   "cell_type": "code",
   "execution_count": 145,
   "metadata": {},
   "outputs": [],
   "source": [
    "# create function that will parse the raw METAR data.\n",
    "def parse_metar(metar):\n",
    "    try:\n",
    "        parsed = Metar.Metar(metar)\n",
    "\n",
    "        return {\n",
    "            'station_id': parsed.station_id,\n",
    "            'wind_dir_degrees': parsed.wind_dir.value() if parsed.wind_dir else None,\n",
    "            'wind_speed_kt': parsed.wind_speed.value() if parsed.wind_speed else None,\n",
    "            'wind_gust_kt': parsed.wind_gust.value() if parsed.wind_gust else None,\n",
    "            'visibility_statute_mi': parsed.vis.value() if parsed.vis else None,\n",
    "            'temperature_c': parsed.temp.value() if parsed.temp else None,\n",
    "            'dewpoint_c': parsed.dewpt.value() if parsed.dewpt else None,\n",
    "            'altimeter_hpa': parsed.press.value() if parsed.press else None,\n",
    "        }\n",
    "    except Exception as e:\n",
    "        return None"
   ]
  },
  {
   "cell_type": "code",
   "execution_count": 146,
   "metadata": {},
   "outputs": [],
   "source": [
    "# tie all the functions together in order to break up each field of every METAR observation into their own columns\n",
    "\n",
    "parsed_metar_data = []\n",
    "\n",
    "# process each line of the comb_metar_df\n",
    "for line in comb_metar_df['REM']:\n",
    "    prefix_data = parse_prefix(line)\n",
    "    if prefix_data is None:\n",
    "        continue\n",
    "    \n",
    "    metar_data = parse_metar(prefix_data['metar'])\n",
    "    if metar_data is None:\n",
    "        continue\n",
    "\n",
    "    combined_record = {**prefix_data, **metar_data}\n",
    "    parsed_metar_data.append(combined_record)\n",
    "\n",
    "# create the new df from parsed records\n",
    "organized_metar_df = pd.DataFrame(parsed_metar_data)\n",
    "organized_metar_df.reset_index(drop=True, inplace=True)"
   ]
  },
  {
   "cell_type": "code",
   "execution_count": 147,
   "metadata": {},
   "outputs": [
    {
     "name": "stdout",
     "output_type": "stream",
     "text": [
      "  local_date local_time                                              metar  \\\n",
      "0   12/31/22   16:10:03  SPECI KSAN 010010Z 18004KT 10SM SCT009 BKN026 ...   \n",
      "1   12/31/22   16:51:03  METAR KSAN 010051Z 16006KT 8SM -RA SCT008 BKN0...   \n",
      "2   12/31/22   17:51:03  METAR KSAN 010151Z 15006KT 10SM FEW008 BKN021 ...   \n",
      "3   12/31/22   18:16:03  SPECI KSAN 010216Z 14010KT 10SM FEW009 BKN031 ...   \n",
      "4   12/31/22   18:38:03  SPECI KSAN 010238Z 14010G21KT 10SM FEW009 BKN0...   \n",
      "\n",
      "  station_id  wind_dir_degrees  wind_speed_kt  wind_gust_kt  \\\n",
      "0       KSAN             180.0            4.0           NaN   \n",
      "1       KSAN             160.0            6.0           NaN   \n",
      "2       KSAN             150.0            6.0           NaN   \n",
      "3       KSAN             140.0           10.0           NaN   \n",
      "4       KSAN             140.0           10.0          21.0   \n",
      "\n",
      "   visibility_statute_mi  temperature_c  dewpoint_c  altimeter_hpa  \n",
      "0                   10.0           15.6        12.8          30.01  \n",
      "1                    8.0           15.6        13.3          30.00  \n",
      "2                   10.0           15.6        12.8          29.98  \n",
      "3                   10.0           15.6        12.8          29.97  \n",
      "4                   10.0           15.6        12.8          29.96  \n"
     ]
    }
   ],
   "source": [
    "print(organized_metar_df.head())"
   ]
  },
  {
   "cell_type": "code",
   "execution_count": 148,
   "metadata": {},
   "outputs": [
    {
     "name": "stdout",
     "output_type": "stream",
     "text": [
      "  local_date local_time station_id  wind_dir_degrees  wind_speed_kt  \\\n",
      "0   12/31/22   16:10:03       KSAN             180.0            4.0   \n",
      "1   12/31/22   16:51:03       KSAN             160.0            6.0   \n",
      "2   12/31/22   17:51:03       KSAN             150.0            6.0   \n",
      "3   12/31/22   18:16:03       KSAN             140.0           10.0   \n",
      "4   12/31/22   18:38:03       KSAN             140.0           10.0   \n",
      "\n",
      "   wind_gust_kt  visibility_statute_mi  temperature_c  dewpoint_c  \\\n",
      "0           NaN                   10.0           15.6        12.8   \n",
      "1           NaN                    8.0           15.6        13.3   \n",
      "2           NaN                   10.0           15.6        12.8   \n",
      "3           NaN                   10.0           15.6        12.8   \n",
      "4          21.0                   10.0           15.6        12.8   \n",
      "\n",
      "   altimeter_hpa  \n",
      "0          30.01  \n",
      "1          30.00  \n",
      "2          29.98  \n",
      "3          29.97  \n",
      "4          29.96  \n"
     ]
    }
   ],
   "source": [
    "# drop the metar column\n",
    "organized_metar_df.drop(columns=['metar'], inplace=True)\n",
    "print(organized_metar_df.head())"
   ]
  },
  {
   "cell_type": "code",
   "execution_count": 149,
   "metadata": {},
   "outputs": [
    {
     "name": "stdout",
     "output_type": "stream",
     "text": [
      "  local_date local_time station_id  wind_dir_degrees  wind_speed_kt  \\\n",
      "0   12/31/22   16:10:03       KSAN             180.0            4.0   \n",
      "1   12/31/22   16:51:03       KSAN             160.0            6.0   \n",
      "2   12/31/22   17:51:03       KSAN             150.0            6.0   \n",
      "3   12/31/22   18:16:03       KSAN             140.0           10.0   \n",
      "4   12/31/22   18:38:03       KSAN             140.0           10.0   \n",
      "\n",
      "   wind_gust_kt  visibility_statute_mi  temperature_c  dewpoint_c  \\\n",
      "0           0.0                   10.0           15.6        12.8   \n",
      "1           0.0                    8.0           15.6        13.3   \n",
      "2           0.0                   10.0           15.6        12.8   \n",
      "3           0.0                   10.0           15.6        12.8   \n",
      "4          21.0                   10.0           15.6        12.8   \n",
      "\n",
      "   altimeter_hpa  \n",
      "0          30.01  \n",
      "1          30.00  \n",
      "2          29.98  \n",
      "3          29.97  \n",
      "4          29.96  \n"
     ]
    }
   ],
   "source": [
    "# replace all NaN values in the wind_gust_kt column with 0\n",
    "organized_metar_df.fillna({'wind_gust_kt':0}, inplace=True)\n",
    "print(organized_metar_df.head())"
   ]
  },
  {
   "cell_type": "code",
   "execution_count": 150,
   "metadata": {},
   "outputs": [],
   "source": [
    "# output the data frame to a csv\n",
    "organized_metar_df.to_csv('clean_data/organized_metar_data.csv', index=False)"
   ]
  }
 ],
 "metadata": {
  "kernelspec": {
   "display_name": "main",
   "language": "python",
   "name": "python3"
  },
  "language_info": {
   "codemirror_mode": {
    "name": "ipython",
    "version": 3
   },
   "file_extension": ".py",
   "mimetype": "text/x-python",
   "name": "python",
   "nbconvert_exporter": "python",
   "pygments_lexer": "ipython3",
   "version": "3.12.3"
  }
 },
 "nbformat": 4,
 "nbformat_minor": 2
}
