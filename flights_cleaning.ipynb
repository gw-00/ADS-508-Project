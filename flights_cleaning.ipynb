{
 "cells": [
  {
   "cell_type": "markdown",
   "metadata": {},
   "source": [
    "### Flight Cleaning Notebook\n",
    "This notebook will be responsible for merging all the flight information for the San Diego International Airport's On Time performance covering two years."
   ]
  },
  {
   "cell_type": "code",
   "execution_count": null,
   "metadata": {},
   "outputs": [],
   "source": [
    "# import libraries\n",
    "import pandas as pd"
   ]
  },
  {
   "cell_type": "code",
   "execution_count": null,
   "metadata": {},
   "outputs": [],
   "source": [
    "# import the csv files\n",
    "Jan23 = pd.read_csv('Raw_data/raw_on-time/Jan23_OT_report.csv')\n",
    "Feb23 = pd.read_csv('Raw_data/raw_on-time/Feb23_OT_report.csv')\n",
    "Mar23 = pd.read_csv('Raw_data/raw_on-time/Mar23_OT_report.csv')\n",
    "Apr23 = pd.read_csv('Raw_data/raw_on-time/Apr23_OT_report.csv')\n",
    "May23 = pd.read_csv('Raw_data/raw_on-time/May23_OT_report.csv')\n",
    "Jun23 = pd.read_csv('Raw_data/raw_on-time/Jun23_OT_report.csv')\n",
    "Jul23 = pd.read_csv('Raw_data/raw_on-time/Jul23_OT_report.csv')\n",
    "Aug23 = pd.read_csv('Raw_data/raw_on-time/Aug23_OT_report.csv')\n",
    "Sep23 = pd.read_csv('Raw_data/raw_on-time/Sep23_OT_report.csv')\n",
    "Oct23 = pd.read_csv('Raw_data/raw_on-time/Oct23_OT_report.csv')\n",
    "Nov23 = pd.read_csv('Raw_data/raw_on-time/Nov23_OT_report.csv')\n",
    "Dec23 = pd.read_csv('Raw_data/raw_on-time/Dec23_OT_report.csv')\n",
    "Jan24 = pd.read_csv('Raw_data/raw_on-time/Jan24_OT_report.csv')\n",
    "Feb24 = pd.read_csv('Raw_data/raw_on-time/Feb24_OT_report.csv')\n",
    "Mar24 = pd.read_csv('Raw_data/raw_on-time/Mar24_OT_report.csv')\n",
    "Apr24 = pd.read_csv('Raw_data/raw_on-time/Apr24_OT_report.csv')\n",
    "May24 = pd.read_csv('Raw_data/raw_on-time/May24_OT_report.csv')\n",
    "Jun24 = pd.read_csv('Raw_data/raw_on-time/Jun24_OT_report.csv')\n",
    "Jul24 = pd.read_csv('Raw_data/raw_on-time/Jul24_OT_report.csv')\n",
    "Aug24 = pd.read_csv('Raw_data/raw_on-time/Aug24_OT_report.csv')\n",
    "Sep24 = pd.read_csv('Raw_data/raw_on-time/Sep24_OT_report.csv')\n",
    "Oct24 = pd.read_csv('Raw_data/raw_on-time/Oct24_OT_report.csv')\n",
    "Nov24 = pd.read_csv('Raw_data/raw_on-time/Nov24_OT_report.csv')\n",
    "Dec24 = pd.read_csv('Raw_data/raw_on-time/Dec24_OT_report.csv')"
   ]
  },
  {
   "cell_type": "code",
   "execution_count": null,
   "metadata": {},
   "outputs": [],
   "source": [
    "# list the df's in chronological order\n",
    "dfs = [Jan23, Feb23, Mar23, Apr23, May23, Jun23, Jul23, Aug23, Sep23, Oct23, Nov23, Dec23,\n",
    "       Jan24, Feb24, Mar24, Apr24, May24, Jun24, Jul24, Aug24, Sep24, Oct24, Nov24, Dec24]"
   ]
  },
  {
   "cell_type": "code",
   "execution_count": null,
   "metadata": {},
   "outputs": [],
   "source": [
    "# merge df's\n",
    "merged_df = pd.concat(dfs, ignore_index=True)"
   ]
  },
  {
   "cell_type": "code",
   "execution_count": null,
   "metadata": {},
   "outputs": [],
   "source": [
    "# Filter all df so that only flights leaving San Diego are represented\n",
    "SAN_df = merged_df.loc[merged_df['ORIGIN'] == 'SAN']\n",
    "# Reset the index\n",
    "SAN_df = SAN_df.reset_index(drop=True)"
   ]
  },
  {
   "cell_type": "code",
   "execution_count": null,
   "metadata": {},
   "outputs": [],
   "source": [
    "# Get shape of the df\n",
    "SAN_df.shape"
   ]
  },
  {
   "cell_type": "code",
   "execution_count": null,
   "metadata": {},
   "outputs": [],
   "source": [
    "# get the data types of the df\n",
    "SAN_df.dtypes"
   ]
  },
  {
   "cell_type": "code",
   "execution_count": null,
   "metadata": {},
   "outputs": [],
   "source": [
    "print(SAN_df.head())"
   ]
  },
  {
   "cell_type": "code",
   "execution_count": null,
   "metadata": {},
   "outputs": [],
   "source": [
    "# adjust the FL_DATE column to datetime\n",
    "SAN_df['FL_DATE'] = pd.to_datetime(SAN_df['FL_DATE']).dt.date"
   ]
  },
  {
   "cell_type": "code",
   "execution_count": null,
   "metadata": {},
   "outputs": [],
   "source": [
    "# convert CRS_DEP_TIME to a string\n",
    "SAN_df['CRS_DEP_TIME'] = SAN_df['CRS_DEP_TIME'].astype(str).str.zfill(4)\n",
    "# convert CRS_DEP_TIME to time format\n",
    "SAN_df['CRS_DEP_TIME'] = pd.to_datetime(SAN_df['CRS_DEP_TIME'], format='%H%M').dt.time"
   ]
  },
  {
   "cell_type": "code",
   "execution_count": null,
   "metadata": {},
   "outputs": [],
   "source": [
    "print(SAN_df.head())"
   ]
  },
  {
   "cell_type": "code",
   "execution_count": null,
   "metadata": {},
   "outputs": [],
   "source": [
    "# create function to handle missing DEP_TIME for cancelled flights\n",
    "def convert_dep_time(val):\n",
    "    if pd.isnull(val):\n",
    "        return None\n",
    "    try:\n",
    "        val_float = float(val)\n",
    "        val_int = int(val_float)\n",
    "        time_str = str(val_int).zfill(4)\n",
    "        return pd.to_datetime(time_str, format='%H%M').time()\n",
    "    except Exception:\n",
    "        return None"
   ]
  },
  {
   "cell_type": "code",
   "execution_count": null,
   "metadata": {},
   "outputs": [],
   "source": [
    "# apply the function to the DEP_TIME column\n",
    "SAN_df['DEP_TIME'] = SAN_df['DEP_TIME'].apply(convert_dep_time)"
   ]
  },
  {
   "cell_type": "code",
   "execution_count": null,
   "metadata": {},
   "outputs": [],
   "source": [
    "print(SAN_df.head())"
   ]
  },
  {
   "cell_type": "code",
   "execution_count": null,
   "metadata": {},
   "outputs": [],
   "source": [
    "# convert the DEP_DEL15 column to int\n",
    "SAN_df['DEP_DEL15'] = SAN_df['DEP_DEL15'].fillna(0).astype(int)"
   ]
  },
  {
   "cell_type": "code",
   "execution_count": null,
   "metadata": {},
   "outputs": [],
   "source": [
    "# convert CANCELLED column to int\n",
    "SAN_df['CANCELLED'] = SAN_df['CANCELLED'].fillna(0).astype(int)"
   ]
  },
  {
   "cell_type": "code",
   "execution_count": null,
   "metadata": {},
   "outputs": [],
   "source": [
    "# check what values are present in cancellation_code\n",
    "SAN_df['CANCELLATION_CODE'].value_counts()"
   ]
  },
  {
   "cell_type": "code",
   "execution_count": null,
   "metadata": {},
   "outputs": [],
   "source": [
    "# fill missing values with None in CANCELLATION_CODE\n",
    "SAN_df['CANCELLATION_CODE'] = SAN_df['CANCELLATION_CODE'].fillna('None')"
   ]
  },
  {
   "cell_type": "code",
   "execution_count": null,
   "metadata": {},
   "outputs": [],
   "source": [
    "# check what values are present in CARRIER_DELAY\n",
    "SAN_df['CARRIER_DELAY'].value_counts()\n"
   ]
  },
  {
   "cell_type": "code",
   "execution_count": null,
   "metadata": {},
   "outputs": [],
   "source": [
    "# convert the CARRIER_DELAY column to int\n",
    "SAN_df['CARRIER_DELAY'] = SAN_df['CARRIER_DELAY'].fillna(0).astype(int)"
   ]
  },
  {
   "cell_type": "code",
   "execution_count": null,
   "metadata": {},
   "outputs": [],
   "source": [
    "# convert the WEATHER_DELAY column to int\n",
    "SAN_df['WEATHER_DELAY'] = SAN_df['WEATHER_DELAY'].fillna(0).astype(int)"
   ]
  },
  {
   "cell_type": "code",
   "execution_count": null,
   "metadata": {},
   "outputs": [],
   "source": [
    "# convert the NAS_DELAY column to int\n",
    "SAN_df['NAS_DELAY'] = SAN_df['NAS_DELAY'].fillna(0).astype(int)"
   ]
  },
  {
   "cell_type": "code",
   "execution_count": null,
   "metadata": {},
   "outputs": [],
   "source": [
    "# convert the SECURITY_DELAY column to int\n",
    "SAN_df['SECURITY_DELAY'] = SAN_df['SECURITY_DELAY'].fillna(0).astype(int)"
   ]
  },
  {
   "cell_type": "code",
   "execution_count": null,
   "metadata": {},
   "outputs": [],
   "source": [
    "# convert the LATE_AIRCRAFT_DELAY column to int\n",
    "SAN_df['LATE_AIRCRAFT_DELAY'] = SAN_df['LATE_AIRCRAFT_DELAY'].fillna(0).astype(int)"
   ]
  },
  {
   "cell_type": "code",
   "execution_count": null,
   "metadata": {},
   "outputs": [],
   "source": [
    "# reorder the columns so times are next to the date\n",
    "SAN_df = SAN_df[['FL_DATE', 'CRS_DEP_TIME', 'DEP_TIME', 'OP_UNIQUE_CARRIER', 'OP_CARRIER_FL_NUM', 'ORIGIN', 'DEST', 'DEP_DEL15', 'CANCELLED', 'CANCELLATION_CODE', 'CARRIER_DELAY', 'WEATHER_DELAY', 'NAS_DELAY', 'SECURITY_DELAY', 'LATE_AIRCRAFT_DELAY']]\n",
    "print(SAN_df.head())"
   ]
  },
  {
   "cell_type": "code",
   "execution_count": null,
   "metadata": {},
   "outputs": [],
   "source": [
    "# Save the df to a csv file\n",
    "SAN_df.to_csv('clean_data/SAN_OT_report.csv', index=False)"
   ]
  }
 ],
 "metadata": {
  "kernelspec": {
   "display_name": "main",
   "language": "python",
   "name": "python3"
  },
  "language_info": {
   "codemirror_mode": {
    "name": "ipython",
    "version": 3
   },
   "file_extension": ".py",
   "mimetype": "text/x-python",
   "name": "python",
   "nbconvert_exporter": "python",
   "pygments_lexer": "ipython3",
   "version": "3.12.3"
  }
 },
 "nbformat": 4,
 "nbformat_minor": 2
}
