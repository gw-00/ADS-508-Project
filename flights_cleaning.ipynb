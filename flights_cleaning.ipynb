{
 "cells": [
  {
   "cell_type": "markdown",
   "metadata": {},
   "source": [
    "### Flight Cleaning Notebook\n",
    "This notebook will be responsible for merging all the flight information for the San Diego International Airport's On Time performance covering two years."
   ]
  },
  {
   "cell_type": "code",
   "execution_count": 8,
   "metadata": {},
   "outputs": [],
   "source": [
    "# import libraries\n",
    "import pandas as pd"
   ]
  },
  {
   "cell_type": "code",
   "execution_count": 9,
   "metadata": {},
   "outputs": [],
   "source": [
    "# import the csv files\n",
    "Jan23 = pd.read_csv('Raw_data/raw_on-time/Jan23_OT_report.csv')\n",
    "Feb23 = pd.read_csv('Raw_data/raw_on-time/Feb23_OT_report.csv')\n",
    "Mar23 = pd.read_csv('Raw_data/raw_on-time/Mar23_OT_report.csv')\n",
    "Apr23 = pd.read_csv('Raw_data/raw_on-time/Apr23_OT_report.csv')\n",
    "May23 = pd.read_csv('Raw_data/raw_on-time/May23_OT_report.csv')\n",
    "Jun23 = pd.read_csv('Raw_data/raw_on-time/Jun23_OT_report.csv')\n",
    "Jul23 = pd.read_csv('Raw_data/raw_on-time/Jul23_OT_report.csv')\n",
    "Aug23 = pd.read_csv('Raw_data/raw_on-time/Aug23_OT_report.csv')\n",
    "Sep23 = pd.read_csv('Raw_data/raw_on-time/Sep23_OT_report.csv')\n",
    "Oct23 = pd.read_csv('Raw_data/raw_on-time/Oct23_OT_report.csv')\n",
    "Nov23 = pd.read_csv('Raw_data/raw_on-time/Nov23_OT_report.csv')\n",
    "Dec23 = pd.read_csv('Raw_data/raw_on-time/Dec23_OT_report.csv')"
   ]
  },
  {
   "cell_type": "code",
   "execution_count": 10,
   "metadata": {},
   "outputs": [],
   "source": [
    "# list the df's in chronological order\n",
    "dfs = [Jan23, Feb23, Mar23, Apr23, May23, Jun23, Jul23, Aug23, Sep23, Oct23, Nov23, Dec23]"
   ]
  },
  {
   "cell_type": "code",
   "execution_count": 11,
   "metadata": {},
   "outputs": [],
   "source": [
    "# merge df's\n",
    "merged_df = pd.concat(dfs, ignore_index=True)"
   ]
  },
  {
   "cell_type": "code",
   "execution_count": 12,
   "metadata": {},
   "outputs": [],
   "source": [
    "# Filter all df so that only flights leaving San Diego are represented\n",
    "SAN_df = merged_df.loc[merged_df['ORIGIN'] == 'SAN']\n",
    "# Reset the index\n",
    "SAN_df = SAN_df.reset_index(drop=True)"
   ]
  },
  {
   "cell_type": "code",
   "execution_count": 13,
   "metadata": {},
   "outputs": [
    {
     "data": {
      "text/plain": [
       "(90955, 17)"
      ]
     },
     "execution_count": 13,
     "metadata": {},
     "output_type": "execute_result"
    }
   ],
   "source": [
    "# Get shape of the df\n",
    "SAN_df.shape"
   ]
  },
  {
   "cell_type": "code",
   "execution_count": 14,
   "metadata": {},
   "outputs": [],
   "source": [
    "# Save the df to a csv file\n",
    "SAN_df.to_csv('clean_data/SAN_OT_report.csv', index=False)"
   ]
  }
 ],
 "metadata": {
  "kernelspec": {
   "display_name": "main",
   "language": "python",
   "name": "python3"
  },
  "language_info": {
   "codemirror_mode": {
    "name": "ipython",
    "version": 3
   },
   "file_extension": ".py",
   "mimetype": "text/x-python",
   "name": "python",
   "nbconvert_exporter": "python",
   "pygments_lexer": "ipython3",
   "version": "3.12.3"
  }
 },
 "nbformat": 4,
 "nbformat_minor": 2
}
