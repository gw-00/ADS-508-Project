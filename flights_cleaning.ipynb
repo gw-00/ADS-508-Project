{
 "cells": [
  {
   "cell_type": "markdown",
   "metadata": {},
   "source": [
    "### Flight Cleaning Notebook\n",
    "This notebook will be responsible for merging all the flight information for the San Diego International Airport's On Time performance covering two years."
   ]
  },
  {
   "cell_type": "code",
   "execution_count": 156,
   "metadata": {},
   "outputs": [],
   "source": [
    "# import libraries\n",
    "import pandas as pd"
   ]
  },
  {
   "cell_type": "code",
   "execution_count": 157,
   "metadata": {},
   "outputs": [],
   "source": [
    "# import the csv files\n",
    "Jan23 = pd.read_csv('Raw_data/raw_on-time/Jan23_OT_report.csv')\n",
    "Feb23 = pd.read_csv('Raw_data/raw_on-time/Feb23_OT_report.csv')\n",
    "Mar23 = pd.read_csv('Raw_data/raw_on-time/Mar23_OT_report.csv')\n",
    "Apr23 = pd.read_csv('Raw_data/raw_on-time/Apr23_OT_report.csv')\n",
    "May23 = pd.read_csv('Raw_data/raw_on-time/May23_OT_report.csv')\n",
    "Jun23 = pd.read_csv('Raw_data/raw_on-time/Jun23_OT_report.csv')\n",
    "Jul23 = pd.read_csv('Raw_data/raw_on-time/Jul23_OT_report.csv')\n",
    "Aug23 = pd.read_csv('Raw_data/raw_on-time/Aug23_OT_report.csv')\n",
    "Sep23 = pd.read_csv('Raw_data/raw_on-time/Sep23_OT_report.csv')\n",
    "Oct23 = pd.read_csv('Raw_data/raw_on-time/Oct23_OT_report.csv')\n",
    "Nov23 = pd.read_csv('Raw_data/raw_on-time/Nov23_OT_report.csv')\n",
    "Dec23 = pd.read_csv('Raw_data/raw_on-time/Dec23_OT_report.csv')\n",
    "Jan24 = pd.read_csv('Raw_data/raw_on-time/Jan24_OT_report.csv')\n",
    "Feb24 = pd.read_csv('Raw_data/raw_on-time/Feb24_OT_report.csv')\n",
    "Mar24 = pd.read_csv('Raw_data/raw_on-time/Mar24_OT_report.csv')\n",
    "Apr24 = pd.read_csv('Raw_data/raw_on-time/Apr24_OT_report.csv')\n",
    "May24 = pd.read_csv('Raw_data/raw_on-time/May24_OT_report.csv')\n",
    "Jun24 = pd.read_csv('Raw_data/raw_on-time/Jun24_OT_report.csv')\n",
    "Jul24 = pd.read_csv('Raw_data/raw_on-time/Jul24_OT_report.csv')\n",
    "Aug24 = pd.read_csv('Raw_data/raw_on-time/Aug24_OT_report.csv')\n",
    "Sep24 = pd.read_csv('Raw_data/raw_on-time/Sep24_OT_report.csv')\n",
    "Oct24 = pd.read_csv('Raw_data/raw_on-time/Oct24_OT_report.csv')\n",
    "Nov24 = pd.read_csv('Raw_data/raw_on-time/Nov24_OT_report.csv')\n",
    "Dec24 = pd.read_csv('Raw_data/raw_on-time/Dec24_OT_report.csv')"
   ]
  },
  {
   "cell_type": "code",
   "execution_count": 158,
   "metadata": {},
   "outputs": [],
   "source": [
    "# list the df's in chronological order\n",
    "dfs = [Jan23, Feb23, Mar23, Apr23, May23, Jun23, Jul23, Aug23, Sep23, Oct23, Nov23, Dec23,\n",
    "       Jan24, Feb24, Mar24, Apr24, May24, Jun24, Jul24, Aug24, Sep24, Oct24, Nov24, Dec24]"
   ]
  },
  {
   "cell_type": "code",
   "execution_count": 159,
   "metadata": {},
   "outputs": [],
   "source": [
    "# merge df's\n",
    "merged_df = pd.concat(dfs, ignore_index=True)"
   ]
  },
  {
   "cell_type": "code",
   "execution_count": 160,
   "metadata": {},
   "outputs": [],
   "source": [
    "# Filter all df so that only flights leaving San Diego are represented\n",
    "SAN_df = merged_df.loc[merged_df['ORIGIN'] == 'SAN']\n",
    "# Reset the index\n",
    "SAN_df = SAN_df.reset_index(drop=True)"
   ]
  },
  {
   "cell_type": "code",
   "execution_count": 161,
   "metadata": {},
   "outputs": [
    {
     "data": {
      "text/plain": [
       "(185600, 18)"
      ]
     },
     "execution_count": 161,
     "metadata": {},
     "output_type": "execute_result"
    }
   ],
   "source": [
    "# Get shape of the df\n",
    "SAN_df.shape"
   ]
  },
  {
   "cell_type": "code",
   "execution_count": 162,
   "metadata": {},
   "outputs": [
    {
     "data": {
      "text/plain": [
       "FL_DATE                 object\n",
       "OP_UNIQUE_CARRIER       object\n",
       "OP_CARRIER_FL_NUM        int64\n",
       "ORIGIN                  object\n",
       "DEST                    object\n",
       "CRS_DEP_TIME             int64\n",
       "DEP_TIME               float64\n",
       "DEP_DEL15              float64\n",
       "DEP_DELAY_GROUP        float64\n",
       "DEP_TIME_BLK            object\n",
       "CANCELLED              float64\n",
       "CANCELLATION_CODE       object\n",
       "CARRIER_DELAY          float64\n",
       "WEATHER_DELAY          float64\n",
       "NAS_DELAY              float64\n",
       "SECURITY_DELAY         float64\n",
       "LATE_AIRCRAFT_DELAY    float64\n",
       "DEP_DELAY              float64\n",
       "dtype: object"
      ]
     },
     "execution_count": 162,
     "metadata": {},
     "output_type": "execute_result"
    }
   ],
   "source": [
    "# get the data types of the df\n",
    "SAN_df.dtypes"
   ]
  },
  {
   "cell_type": "code",
   "execution_count": 163,
   "metadata": {},
   "outputs": [
    {
     "name": "stdout",
     "output_type": "stream",
     "text": [
      "                FL_DATE OP_UNIQUE_CARRIER  OP_CARRIER_FL_NUM ORIGIN DEST  \\\n",
      "0  1/1/2023 12:00:00 AM                AA               1055    SAN  DFW   \n",
      "1  1/1/2023 12:00:00 AM                AA               1651    SAN  CLT   \n",
      "2  1/1/2023 12:00:00 AM                AA               1663    SAN  ORD   \n",
      "3  1/1/2023 12:00:00 AM                AA               1765    SAN  DFW   \n",
      "4  1/1/2023 12:00:00 AM                AA               1939    SAN  DFW   \n",
      "\n",
      "   CRS_DEP_TIME  DEP_TIME  DEP_DEL15  DEP_DELAY_GROUP DEP_TIME_BLK  CANCELLED  \\\n",
      "0           715     713.0        0.0             -1.0    0700-0759        0.0   \n",
      "1           615     644.0        1.0              1.0    0600-0659        0.0   \n",
      "2          2259    2250.0        0.0             -1.0    2200-2259        0.0   \n",
      "3           815     810.0        0.0             -1.0    0800-0859        0.0   \n",
      "4          1450    1447.0        0.0             -1.0    1400-1459        0.0   \n",
      "\n",
      "  CANCELLATION_CODE  CARRIER_DELAY  WEATHER_DELAY  NAS_DELAY  SECURITY_DELAY  \\\n",
      "0               NaN            NaN            NaN        NaN             NaN   \n",
      "1               NaN            NaN            NaN        NaN             NaN   \n",
      "2               NaN            NaN            NaN        NaN             NaN   \n",
      "3               NaN            NaN            NaN        NaN             NaN   \n",
      "4               NaN            NaN            NaN        NaN             NaN   \n",
      "\n",
      "   LATE_AIRCRAFT_DELAY  DEP_DELAY  \n",
      "0                  NaN        NaN  \n",
      "1                  NaN        NaN  \n",
      "2                  NaN        NaN  \n",
      "3                  NaN        NaN  \n",
      "4                  NaN        NaN  \n"
     ]
    }
   ],
   "source": [
    "print(SAN_df.head())"
   ]
  },
  {
   "cell_type": "code",
   "execution_count": 164,
   "metadata": {},
   "outputs": [
    {
     "name": "stderr",
     "output_type": "stream",
     "text": [
      "C:\\Users\\graha\\AppData\\Local\\Temp\\ipykernel_41204\\1251424886.py:2: UserWarning: Could not infer format, so each element will be parsed individually, falling back to `dateutil`. To ensure parsing is consistent and as-expected, please specify a format.\n",
      "  SAN_df['FL_DATE'] = pd.to_datetime(SAN_df['FL_DATE']).dt.date\n"
     ]
    }
   ],
   "source": [
    "# adjust the FL_DATE column to datetime\n",
    "SAN_df['FL_DATE'] = pd.to_datetime(SAN_df['FL_DATE']).dt.date"
   ]
  },
  {
   "cell_type": "code",
   "execution_count": 165,
   "metadata": {},
   "outputs": [],
   "source": [
    "# convert CRS_DEP_TIME to a string\n",
    "SAN_df['CRS_DEP_TIME'] = SAN_df['CRS_DEP_TIME'].astype(str).str.zfill(4)\n",
    "# convert CRS_DEP_TIME to time format\n",
    "SAN_df['CRS_DEP_TIME'] = pd.to_datetime(SAN_df['CRS_DEP_TIME'], format='%H%M').dt.time"
   ]
  },
  {
   "cell_type": "code",
   "execution_count": 166,
   "metadata": {},
   "outputs": [
    {
     "name": "stdout",
     "output_type": "stream",
     "text": [
      "      FL_DATE OP_UNIQUE_CARRIER  OP_CARRIER_FL_NUM ORIGIN DEST CRS_DEP_TIME  \\\n",
      "0  2023-01-01                AA               1055    SAN  DFW     07:15:00   \n",
      "1  2023-01-01                AA               1651    SAN  CLT     06:15:00   \n",
      "2  2023-01-01                AA               1663    SAN  ORD     22:59:00   \n",
      "3  2023-01-01                AA               1765    SAN  DFW     08:15:00   \n",
      "4  2023-01-01                AA               1939    SAN  DFW     14:50:00   \n",
      "\n",
      "   DEP_TIME  DEP_DEL15  DEP_DELAY_GROUP DEP_TIME_BLK  CANCELLED  \\\n",
      "0     713.0        0.0             -1.0    0700-0759        0.0   \n",
      "1     644.0        1.0              1.0    0600-0659        0.0   \n",
      "2    2250.0        0.0             -1.0    2200-2259        0.0   \n",
      "3     810.0        0.0             -1.0    0800-0859        0.0   \n",
      "4    1447.0        0.0             -1.0    1400-1459        0.0   \n",
      "\n",
      "  CANCELLATION_CODE  CARRIER_DELAY  WEATHER_DELAY  NAS_DELAY  SECURITY_DELAY  \\\n",
      "0               NaN            NaN            NaN        NaN             NaN   \n",
      "1               NaN            NaN            NaN        NaN             NaN   \n",
      "2               NaN            NaN            NaN        NaN             NaN   \n",
      "3               NaN            NaN            NaN        NaN             NaN   \n",
      "4               NaN            NaN            NaN        NaN             NaN   \n",
      "\n",
      "   LATE_AIRCRAFT_DELAY  DEP_DELAY  \n",
      "0                  NaN        NaN  \n",
      "1                  NaN        NaN  \n",
      "2                  NaN        NaN  \n",
      "3                  NaN        NaN  \n",
      "4                  NaN        NaN  \n"
     ]
    }
   ],
   "source": [
    "print(SAN_df.head())"
   ]
  },
  {
   "cell_type": "code",
   "execution_count": 167,
   "metadata": {},
   "outputs": [],
   "source": [
    "# create function to handle missing DEP_TIME for cancelled flights\n",
    "def convert_dep_time(val):\n",
    "    if pd.isnull(val):\n",
    "        return None\n",
    "    try:\n",
    "        val_float = float(val)\n",
    "        val_int = int(val_float)\n",
    "        time_str = str(val_int).zfill(4)\n",
    "        return pd.to_datetime(time_str, format='%H%M').time()\n",
    "    except Exception:\n",
    "        return None"
   ]
  },
  {
   "cell_type": "code",
   "execution_count": 168,
   "metadata": {},
   "outputs": [],
   "source": [
    "# apply the function to the DEP_TIME column\n",
    "SAN_df['DEP_TIME'] = SAN_df['DEP_TIME'].apply(convert_dep_time)"
   ]
  },
  {
   "cell_type": "code",
   "execution_count": 169,
   "metadata": {},
   "outputs": [
    {
     "name": "stdout",
     "output_type": "stream",
     "text": [
      "      FL_DATE OP_UNIQUE_CARRIER  OP_CARRIER_FL_NUM ORIGIN DEST CRS_DEP_TIME  \\\n",
      "0  2023-01-01                AA               1055    SAN  DFW     07:15:00   \n",
      "1  2023-01-01                AA               1651    SAN  CLT     06:15:00   \n",
      "2  2023-01-01                AA               1663    SAN  ORD     22:59:00   \n",
      "3  2023-01-01                AA               1765    SAN  DFW     08:15:00   \n",
      "4  2023-01-01                AA               1939    SAN  DFW     14:50:00   \n",
      "\n",
      "   DEP_TIME  DEP_DEL15  DEP_DELAY_GROUP DEP_TIME_BLK  CANCELLED  \\\n",
      "0  07:13:00        0.0             -1.0    0700-0759        0.0   \n",
      "1  06:44:00        1.0              1.0    0600-0659        0.0   \n",
      "2  22:50:00        0.0             -1.0    2200-2259        0.0   \n",
      "3  08:10:00        0.0             -1.0    0800-0859        0.0   \n",
      "4  14:47:00        0.0             -1.0    1400-1459        0.0   \n",
      "\n",
      "  CANCELLATION_CODE  CARRIER_DELAY  WEATHER_DELAY  NAS_DELAY  SECURITY_DELAY  \\\n",
      "0               NaN            NaN            NaN        NaN             NaN   \n",
      "1               NaN            NaN            NaN        NaN             NaN   \n",
      "2               NaN            NaN            NaN        NaN             NaN   \n",
      "3               NaN            NaN            NaN        NaN             NaN   \n",
      "4               NaN            NaN            NaN        NaN             NaN   \n",
      "\n",
      "   LATE_AIRCRAFT_DELAY  DEP_DELAY  \n",
      "0                  NaN        NaN  \n",
      "1                  NaN        NaN  \n",
      "2                  NaN        NaN  \n",
      "3                  NaN        NaN  \n",
      "4                  NaN        NaN  \n"
     ]
    }
   ],
   "source": [
    "print(SAN_df.head())"
   ]
  },
  {
   "cell_type": "code",
   "execution_count": 170,
   "metadata": {},
   "outputs": [],
   "source": [
    "# convert the DEP_DEL15 column to int\n",
    "SAN_df['DEP_DEL15'] = SAN_df['DEP_DEL15'].fillna(0).astype(int)"
   ]
  },
  {
   "cell_type": "code",
   "execution_count": 171,
   "metadata": {},
   "outputs": [],
   "source": [
    "# convert CANCELLED column to int\n",
    "SAN_df['CANCELLED'] = SAN_df['CANCELLED'].fillna(0).astype(int)"
   ]
  },
  {
   "cell_type": "code",
   "execution_count": 172,
   "metadata": {},
   "outputs": [
    {
     "data": {
      "text/plain": [
       "CANCELLATION_CODE\n",
       "A    992\n",
       "B    902\n",
       "C    222\n",
       "D      2\n",
       "Name: count, dtype: int64"
      ]
     },
     "execution_count": 172,
     "metadata": {},
     "output_type": "execute_result"
    }
   ],
   "source": [
    "# check what values are present in cancellation_code\n",
    "SAN_df['CANCELLATION_CODE'].value_counts()"
   ]
  },
  {
   "cell_type": "code",
   "execution_count": 173,
   "metadata": {},
   "outputs": [],
   "source": [
    "# fill missing values with None in CANCELLATION_CODE\n",
    "SAN_df['CANCELLATION_CODE'] = SAN_df['CANCELLATION_CODE'].fillna('None')"
   ]
  },
  {
   "cell_type": "code",
   "execution_count": 174,
   "metadata": {},
   "outputs": [
    {
     "data": {
      "text/plain": [
       "CARRIER_DELAY\n",
       "0.0       23180\n",
       "1.0         887\n",
       "2.0         871\n",
       "3.0         776\n",
       "4.0         722\n",
       "          ...  \n",
       "492.0         1\n",
       "764.0         1\n",
       "663.0         1\n",
       "1144.0        1\n",
       "236.0         1\n",
       "Name: count, Length: 546, dtype: int64"
      ]
     },
     "execution_count": 174,
     "metadata": {},
     "output_type": "execute_result"
    }
   ],
   "source": [
    "# check what values are present in CARRIER_DELAY\n",
    "SAN_df['CARRIER_DELAY'].value_counts()\n"
   ]
  },
  {
   "cell_type": "code",
   "execution_count": 175,
   "metadata": {},
   "outputs": [],
   "source": [
    "# convert the CARRIER_DELAY column to int\n",
    "SAN_df['CARRIER_DELAY'] = SAN_df['CARRIER_DELAY'].fillna(0).astype(int)"
   ]
  },
  {
   "cell_type": "code",
   "execution_count": 176,
   "metadata": {},
   "outputs": [],
   "source": [
    "# convert the WEATHER_DELAY column to int\n",
    "SAN_df['WEATHER_DELAY'] = SAN_df['WEATHER_DELAY'].fillna(0).astype(int)"
   ]
  },
  {
   "cell_type": "code",
   "execution_count": 177,
   "metadata": {},
   "outputs": [],
   "source": [
    "# convert the NAS_DELAY column to int\n",
    "SAN_df['NAS_DELAY'] = SAN_df['NAS_DELAY'].fillna(0).astype(int)"
   ]
  },
  {
   "cell_type": "code",
   "execution_count": 178,
   "metadata": {},
   "outputs": [],
   "source": [
    "# convert the SECURITY_DELAY column to int\n",
    "SAN_df['SECURITY_DELAY'] = SAN_df['SECURITY_DELAY'].fillna(0).astype(int)"
   ]
  },
  {
   "cell_type": "code",
   "execution_count": 179,
   "metadata": {},
   "outputs": [],
   "source": [
    "# convert the LATE_AIRCRAFT_DELAY column to int\n",
    "SAN_df['LATE_AIRCRAFT_DELAY'] = SAN_df['LATE_AIRCRAFT_DELAY'].fillna(0).astype(int)"
   ]
  },
  {
   "cell_type": "code",
   "execution_count": 180,
   "metadata": {},
   "outputs": [
    {
     "name": "stdout",
     "output_type": "stream",
     "text": [
      "      FL_DATE CRS_DEP_TIME  DEP_TIME OP_UNIQUE_CARRIER  OP_CARRIER_FL_NUM  \\\n",
      "0  2023-01-01     07:15:00  07:13:00                AA               1055   \n",
      "1  2023-01-01     06:15:00  06:44:00                AA               1651   \n",
      "2  2023-01-01     22:59:00  22:50:00                AA               1663   \n",
      "3  2023-01-01     08:15:00  08:10:00                AA               1765   \n",
      "4  2023-01-01     14:50:00  14:47:00                AA               1939   \n",
      "\n",
      "  ORIGIN DEST  DEP_DEL15  CANCELLED CANCELLATION_CODE  CARRIER_DELAY  \\\n",
      "0    SAN  DFW          0          0              None              0   \n",
      "1    SAN  CLT          1          0              None              0   \n",
      "2    SAN  ORD          0          0              None              0   \n",
      "3    SAN  DFW          0          0              None              0   \n",
      "4    SAN  DFW          0          0              None              0   \n",
      "\n",
      "   WEATHER_DELAY  NAS_DELAY  SECURITY_DELAY  LATE_AIRCRAFT_DELAY  \n",
      "0              0          0               0                    0  \n",
      "1              0          0               0                    0  \n",
      "2              0          0               0                    0  \n",
      "3              0          0               0                    0  \n",
      "4              0          0               0                    0  \n"
     ]
    }
   ],
   "source": [
    "# reorder the columns so times are next to the date\n",
    "SAN_df = SAN_df[['FL_DATE', 'CRS_DEP_TIME', 'DEP_TIME', 'OP_UNIQUE_CARRIER', 'OP_CARRIER_FL_NUM', 'ORIGIN', 'DEST', 'DEP_DEL15', 'CANCELLED', 'CANCELLATION_CODE', 'CARRIER_DELAY', 'WEATHER_DELAY', 'NAS_DELAY', 'SECURITY_DELAY', 'LATE_AIRCRAFT_DELAY']]\n",
    "print(SAN_df.head())"
   ]
  },
  {
   "cell_type": "code",
   "execution_count": 181,
   "metadata": {},
   "outputs": [],
   "source": [
    "# Save the df to a csv file\n",
    "SAN_df.to_csv('clean_data/SAN_OT_report.csv', index=False)"
   ]
  }
 ],
 "metadata": {
  "kernelspec": {
   "display_name": "main",
   "language": "python",
   "name": "python3"
  },
  "language_info": {
   "codemirror_mode": {
    "name": "ipython",
    "version": 3
   },
   "file_extension": ".py",
   "mimetype": "text/x-python",
   "name": "python",
   "nbconvert_exporter": "python",
   "pygments_lexer": "ipython3",
   "version": "3.12.3"
  }
 },
 "nbformat": 4,
 "nbformat_minor": 2
}
